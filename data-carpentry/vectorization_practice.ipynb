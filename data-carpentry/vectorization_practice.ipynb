{
 "metadata": {
  "language_info": {
   "codemirror_mode": {
    "name": "ipython",
    "version": 3
   },
   "file_extension": ".py",
   "mimetype": "text/x-python",
   "name": "python",
   "nbconvert_exporter": "python",
   "pygments_lexer": "ipython3",
   "version": "3.8.5-final"
  },
  "orig_nbformat": 2,
  "kernelspec": {
   "name": "python3",
   "display_name": "Python 3",
   "language": "python"
  }
 },
 "nbformat": 4,
 "nbformat_minor": 2,
 "cells": [
  {
   "cell_type": "code",
   "execution_count": 1,
   "metadata": {},
   "outputs": [
    {
     "output_type": "stream",
     "name": "stdout",
     "text": [
      "<xarray.DataArray 'sftlf' (lat: 144, lon: 192)>\narray([[100., 100., 100., ..., 100., 100., 100.],\n       [100., 100., 100., ..., 100., 100., 100.],\n       [100., 100., 100., ..., 100., 100., 100.],\n       ...,\n       [  0.,   0.,   0., ...,   0.,   0.,   0.],\n       [  0.,   0.,   0., ...,   0.,   0.,   0.],\n       [  0.,   0.,   0., ...,   0.,   0.,   0.]], dtype=float32)\nCoordinates:\n  * lat      (lat) float64 -89.38 -88.12 -86.88 -85.62 ... 86.88 88.12 89.38\n  * lon      (lon) float64 0.9375 2.812 4.688 6.562 ... 353.4 355.3 357.2 359.1\nAttributes:\n    standard_name:   land_area_fraction\n    long_name:       Percentage of the grid  cell occupied by land (including...\n    comment:         Percentage of horizontal area occupied by land.\n    units:           %\n    original_units:  1\n    history:         2019-11-09T02:47:20Z altered by CMOR: Converted units fr...\n    cell_methods:    area: mean\n    cell_measures:   area: areacella\n"
     ]
    }
   ],
   "source": [
    "import numpy as np\n",
    "import xarray as xr\n",
    "\n",
    "accesscm2_sftlf_file = 'data/sftlf_fx_ACCESS-CM2_historical_r1i1p1f1_gn.nc'\n",
    "\n",
    "dset = xr.open_dataset(accesscm2_sftlf_file)\n",
    "sftlf = dset['sftlf']\n",
    "print(sftlf)"
   ]
  },
  {
   "cell_type": "code",
   "execution_count": 2,
   "metadata": {},
   "outputs": [],
   "source": [
    "dset = xr.open_dataset('data/pr_Amon_ACCESS-CM2_historical_r1i1p1f1_gn_201001-201412.nc')\n",
    "clim = dset['pr'].mean('time', keep_attrs=True)\n"
   ]
  },
  {
   "cell_type": "code",
   "execution_count": null,
   "metadata": {},
   "outputs": [],
   "source": [
    "nlats, nlons = clim.data.shape\n",
    "for y in range(nlats):\n",
    "    for x in range(nlons):\n",
    "        if sftlf.data[y, x] > 50:\n",
    "            clim.data[y, x] = np.nan"
   ]
  },
  {
   "cell_type": "code",
   "execution_count": 3,
   "metadata": {},
   "outputs": [],
   "source": [
    "clim_ocean = clim.where(sftlf.data < 50) # this line does what the loop above does but in one line"
   ]
  },
  {
   "cell_type": "code",
   "execution_count": null,
   "metadata": {},
   "outputs": [],
   "source": []
  }
 ]
}